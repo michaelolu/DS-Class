{
 "cells": [
  {
   "cell_type": "code",
   "execution_count": null,
   "metadata": {},
   "outputs": [
    {
     "name": "stdout",
     "output_type": "stream",
     "text": [
      "This program is to calculate the BMI of an individual\n",
      "\n"
     ]
    }
   ],
   "source": [
    "print('This program is to calculate the BMI of an individual\\n')\n",
    "\n",
    "name = input('Enter Your Name : ')\n",
    "weight = float(input(\"Enter Your Weight: \"))\n",
    "height = float(input(\"Enter Your height: \"))\n",
    "\n",
    "bmi = weight / (height ** 2)\n",
    "\n",
    "if bmi < 25:\n",
    "    print(f'{name} is underweight by {bmi} BMI')\n",
    "else: \n",
    "    print (f'{name} is overweight by {bmi} BMI')"
   ]
  },
  {
   "cell_type": "code",
   "execution_count": null,
   "metadata": {},
   "outputs": [],
   "source": []
  }
 ],
 "metadata": {
  "kernelspec": {
   "display_name": "Python 3",
   "language": "python",
   "name": "python3"
  },
  "language_info": {
   "codemirror_mode": {
    "name": "ipython",
    "version": 3
   },
   "file_extension": ".py",
   "mimetype": "text/x-python",
   "name": "python",
   "nbconvert_exporter": "python",
   "pygments_lexer": "ipython3",
   "version": "3.7.3"
  }
 },
 "nbformat": 4,
 "nbformat_minor": 2
}
