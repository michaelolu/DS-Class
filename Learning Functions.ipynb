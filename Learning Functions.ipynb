{
 "cells": [
  {
   "cell_type": "code",
   "execution_count": 1,
   "metadata": {},
   "outputs": [],
   "source": [
    "def greet_customer(name, num_apples=10):\n",
    "    print('Hello, ' + name)\n",
    "    print('We have ' +str(num_apples) + ' in stock')"
   ]
  },
  {
   "cell_type": "code",
   "execution_count": 2,
   "metadata": {},
   "outputs": [
    {
     "name": "stdout",
     "output_type": "stream",
     "text": [
      "Hello, Mark\n",
      "We have 10 in stock\n",
      "Hello, Brooke\n",
      "We have 6 in stock\n",
      "Hello, Greg\n",
      "We have 4 in stock\n"
     ]
    }
   ],
   "source": [
    "greet_customer('Mark', )\n",
    "greet_customer('Brooke', 6)\n",
    "greet_customer('Greg', 4)"
   ]
  },
  {
   "cell_type": "code",
   "execution_count": 5,
   "metadata": {},
   "outputs": [
    {
     "name": "stdout",
     "output_type": "stream",
     "text": [
      "hello mike\n"
     ]
    }
   ],
   "source": [
    "def say_hello(name):\n",
    "    if not name :\n",
    "        print('hello, everybody!')\n",
    "    \n",
    "    else :\n",
    "        print('hello ' + name)\n",
    "\n",
    "say_hello('mike')\n"
   ]
  },
  {
   "cell_type": "code",
   "execution_count": 1,
   "metadata": {},
   "outputs": [],
   "source": [
    "def bmi_cal (name, weigth, heigth):\n",
    "    name = input('Enter Your Name : ')\n",
    "    weight = float(input(\"Enter Your Weight: \"))\n",
    "    height = float(input(\"Enter Your height: \"))\n",
    "\n",
    "    bmi = weight / (height ** 2)\n",
    "\n",
    "    if bmi < 25:\n",
    "        print(f'{name} is underweight by {bmi} BMI')\n",
    "    else: \n",
    "        print (f'{name} is overweight by {bmi} BMI')\n",
    "        \n",
    "    return "
   ]
  },
  {
   "cell_type": "code",
   "execution_count": 4,
   "metadata": {},
   "outputs": [
    {
     "name": "stdout",
     "output_type": "stream",
     "text": [
      "Enter Your Name : mike\n",
      "Enter Your Weight: 131\n",
      "Enter Your height: 110\n",
      "mike is underweight by 0.010826446280991735 BMI\n"
     ]
    }
   ],
   "source": [
    "bmi_cal('mike',130,120)"
   ]
  },
  {
   "cell_type": "code",
   "execution_count": 16,
   "metadata": {},
   "outputs": [
    {
     "data": {
      "text/plain": [
       "3"
      ]
     },
     "execution_count": 16,
     "metadata": {},
     "output_type": "execute_result"
    }
   ],
   "source": [
    "def sum_of_items(num1, num2):\n",
    "    return num1+num2\n",
    "sum_of_items(2,1)"
   ]
  },
  {
   "cell_type": "code",
   "execution_count": 8,
   "metadata": {},
   "outputs": [
    {
     "data": {
      "text/plain": [
       "14"
      ]
     },
     "execution_count": 8,
     "metadata": {},
     "output_type": "execute_result"
    }
   ],
   "source": [
    "def multiply_by_two(value):\n",
    "    multiplied_value = value * 2\n",
    "    return multiplied_value \n",
    "\n",
    "multiply_by_two(7)"
   ]
  },
  {
   "cell_type": "code",
   "execution_count": null,
   "metadata": {},
   "outputs": [],
   "source": []
  }
 ],
 "metadata": {
  "kernelspec": {
   "display_name": "Python 3",
   "language": "python",
   "name": "python3"
  },
  "language_info": {
   "codemirror_mode": {
    "name": "ipython",
    "version": 3
   },
   "file_extension": ".py",
   "mimetype": "text/x-python",
   "name": "python",
   "nbconvert_exporter": "python",
   "pygments_lexer": "ipython3",
   "version": "3.7.3"
  }
 },
 "nbformat": 4,
 "nbformat_minor": 2
}
